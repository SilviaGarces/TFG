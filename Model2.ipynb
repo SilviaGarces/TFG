{
  "nbformat": 4,
  "nbformat_minor": 0,
  "metadata": {
    "colab": {
      "provenance": []
    },
    "kernelspec": {
      "name": "python3",
      "display_name": "Python 3"
    },
    "language_info": {
      "name": "python"
    }
  },
  "cells": [
    {
      "cell_type": "code",
      "execution_count": null,
      "metadata": {
        "id": "EQHl73b3esG9"
      },
      "outputs": [],
      "source": [
        "import numpy as np\n",
        "import pandas as pd\n",
        "from pandas import DataFrame as df\n",
        "import tensorflow as tf\n",
        "from tensorflow import keras\n",
        "from sklearn.metrics import roc_curve\n",
        "from sklearn.metrics import auc\n",
        "from keras import metrics\n",
        "import matplotlib.pyplot as plt\n",
        "from sklearn.metrics import r2_score\n",
        "from sklearn.preprocessing import StandardScaler\n",
        "from sklearn.model_selection import train_test_split\n",
        "from sklearn.metrics import roc_auc_score"
      ]
    },
    {
      "cell_type": "code",
      "source": [
        "from sklearn.metrics import confusion_matrix\n",
        "import seaborn as sns\n",
        "\n",
        "def display_confusion_matrix(y_pred, y_actual):\n",
        "    cm = confusion_matrix(y_actual, y_pred)\n",
        "\n",
        "    # Create a figure and axes\n",
        "    fig, ax = plt.subplots(figsize=(8, 6))\n",
        "\n",
        "    # Create a heatmap of the confusion matrix\n",
        "    sns.heatmap(cm, annot=True, fmt='d', cmap='Blues', cbar=False, ax=ax)\n",
        "\n",
        "    # Set labels, title, and ticks\n",
        "    ax.set_xlabel('Predicted')\n",
        "    ax.set_ylabel('Actual')\n",
        "    ax.set_title('Confusion Matrix')\n",
        "    ax.xaxis.set_ticklabels(['Non-CVD', 'CVD'])\n",
        "    ax.yaxis.set_ticklabels(['Non-CVD', 'CVD'])\n",
        "\n",
        "    # Calculate and display other metrics if needed\n",
        "    accuracy = (cm[0, 0] + cm[1, 1]) / cm.sum()\n",
        "    recall = cm[1, 1] / (cm[1, 1] + cm[1, 0])\n",
        "    specificity = cm[0, 0] / (cm[0, 0] + cm[0, 1])\n",
        "    print(\"Accuracy:\", accuracy)\n",
        "    print(\"Sensitivity/Recall:\", recall)\n",
        "    print(\"Specificity:\", specificity)\n",
        "\n",
        "    return cm, accuracy, recall, specificity"
      ],
      "metadata": {
        "id": "ZHIE7lE0v6-o"
      },
      "execution_count": null,
      "outputs": []
    },
    {
      "cell_type": "code",
      "source": [
        "# Function for DNN performance\n",
        "def model_performance_DNN(x, model, y):\n",
        "    hypo = model.predict(x)\n",
        "    pred = np.where(hypo > 0.5, 1, 0).flatten() # relation to sigmoid activation function\n",
        "    cm, accuracy, recall, specificity=display_confusion_matrix(pred, y)\n",
        "    auc = roc_auc_score(y, hypo)\n",
        "\n",
        "    print(\"AUC : \",auc)\n",
        "    plt.show()\n",
        "    return accuracy ,recall, specificity ,auc"
      ],
      "metadata": {
        "id": "9kKLIlZ1fyXI"
      },
      "execution_count": null,
      "outputs": []
    },
    {
      "cell_type": "code",
      "source": [
        "#LOAD DATASET\n",
        "framingham=pd.read_csv('/content/drive/MyDrive/TFG/framingham.csv')\n",
        "framingham = framingham[framingham['glucose'] <= 250] #There are outliers in glucose\n",
        "# We are filling the NaN values with the mean\n",
        "data_filled = framingham.fillna(framingham.mean())"
      ],
      "metadata": {
        "id": "zjosmq4Af-dq"
      },
      "execution_count": null,
      "outputs": []
    },
    {
      "cell_type": "code",
      "source": [
        "#Change to int the variables that have values of 0 or 1 as they are categorical\n",
        "columns_to_convert = ['BPMeds']\n",
        "data_filled['BPMeds'] = data_filled['BPMeds'].astype(int)"
      ],
      "metadata": {
        "id": "5LoqF0bEpyp_"
      },
      "execution_count": null,
      "outputs": []
    },
    {
      "cell_type": "code",
      "source": [
        "#PREPARE THE DATA AGAIN\n",
        "# Import the necessary libraries\n",
        "from sklearn.model_selection import train_test_split\n",
        "from sklearn.preprocessing import StandardScaler\n",
        "from imblearn.over_sampling import RandomOverSampler\n",
        "\n",
        "\n",
        "# Data prep\n",
        "data_x = data_filled.drop(columns=['TenYearCHD','education','BPMeds','prevalentStroke'])\n",
        "data_y = data_filled.TenYearCHD\n",
        "\n",
        "# Separate into training and test data\n",
        "train_x, test_x, train_y, test_y = train_test_split(data_x, data_y, test_size=0.3, random_state=42, stratify=data_y)\n",
        "\n",
        "# Apply oversampling\n",
        "ros = RandomOverSampler(sampling_strategy=0.9)\n",
        "train_x_oversampled, train_y_oversampled = ros.fit_resample(train_x, train_y)\n",
        "\n",
        "# Normalize the data\n",
        "sc = StandardScaler()\n",
        "x_train = sc.fit_transform(train_x_oversampled)\n",
        "x_test=sc.transform(test_x)\n",
        "\n",
        "\n",
        "# Now we can use train_x_oversampled and train_y_oversampled for model training"
      ],
      "metadata": {
        "id": "m1Dlu_ySgI5b"
      },
      "execution_count": null,
      "outputs": []
    },
    {
      "cell_type": "code",
      "source": [
        "train_y_oversampled.value_counts()"
      ],
      "metadata": {
        "id": "Yhd6wDyrdVnc",
        "outputId": "df7f51a6-f85f-456a-eca3-312a2d2170f8",
        "colab": {
          "base_uri": "https://localhost:8080/"
        }
      },
      "execution_count": null,
      "outputs": [
        {
          "output_type": "execute_result",
          "data": {
            "text/plain": [
              "0    2276\n",
              "1    2048\n",
              "Name: TenYearCHD, dtype: int64"
            ]
          },
          "metadata": {},
          "execution_count": 31
        }
      ]
    },
    {
      "cell_type": "code",
      "source": [
        "#MODEL AGAIN\n",
        "DNN = keras.Sequential(name=\"DNN\")\n",
        "DNN.add(keras.layers.Dense(64, input_dim=12,kernel_regularizer= keras.regularizers.l2(0.01), activation='elu', name=\"dense_1\"))\n",
        "DNN.add(keras.layers.Dense(64,kernel_regularizer= keras.regularizers.l2(0.01), activation='elu', name=\"dense_2\"))\n",
        "DNN.add(keras.layers.Dense(32,kernel_regularizer= keras.regularizers.l2(0.01), activation='elu', name=\"dense_3\"))\n",
        "DNN.add(keras.layers.Dense(32,kernel_regularizer= keras.regularizers.l2(0.01), activation='elu', name=\"dense_4\"))\n",
        "DNN.add(keras.layers.Dense(1, activation='sigmoid', name=\"output\"))"
      ],
      "metadata": {
        "id": "-2T8_S6EgM4t"
      },
      "execution_count": null,
      "outputs": []
    },
    {
      "cell_type": "code",
      "source": [
        "from keras.utils import plot_model\n",
        "plot_model(DNN, to_file='model_plot.png', show_shapes=True, show_layer_names=True)\n"
      ],
      "metadata": {
        "colab": {
          "base_uri": "https://localhost:8080/",
          "height": 644
        },
        "id": "vnsDqRmxOifP",
        "outputId": "839a1a57-90ae-4b93-9857-5253cb8438bd"
      },
      "execution_count": null,
      "outputs": [
        {
          "output_type": "execute_result",
          "data": {
            "image/png": "[encoded data removed]",
            "text/plain": [
              "<IPython.core.display.Image object>"
            ]
          },
          "metadata": {},
          "execution_count": 91
        }
      ]
    },
    {
      "cell_type": "code",
      "source": [
        "#LETS COMPILE AND FIT THE DNN MODEL WITHT HIS NEW DATA\n",
        "# Compile\n",
        "DNN.compile(tf.keras.optimizers.Adam(learning_rate=0.0001),loss='binary_crossentropy', metrics=['AUC'])\n",
        "\n",
        "history = DNN.fit(x_train, train_y_oversampled, batch_size=70, epochs=200)\n",
        "train_loss = history.history['loss']"
      ],
      "metadata": {
        "colab": {
          "base_uri": "https://localhost:8080/"
        },
        "id": "1g47TCPUhvd2",
        "outputId": "5623d7f0-6a25-4fc6-8a13-73ed0a87010b"
      },
      "execution_count": null,
      "outputs": [
        {
          "output_type": "stream",
          "name": "stdout",
          "text": [
            "Epoch 1/200\n",
            "62/62 [==============================] - 2s 3ms/step - loss: 2.2311 - auc: 0.6283\n",
            "Epoch 2/200\n",
            "62/62 [==============================] - 0s 2ms/step - loss: 2.1269 - auc: 0.7084\n",
            "Epoch 3/200\n",
            "62/62 [==============================] - 0s 2ms/step - loss: 2.0485 - auc: 0.7221\n",
            "Epoch 4/200\n",
            "62/62 [==============================] - 0s 2ms/step - loss: 1.9780 - auc: 0.7284\n",
            "Epoch 5/200\n",
            "62/62 [==============================] - 0s 2ms/step - loss: 1.9125 - auc: 0.7310\n",
            "Epoch 6/200\n",
            "62/62 [==============================] - 0s 2ms/step - loss: 1.8503 - auc: 0.7329\n",
            "Epoch 7/200\n",
            "62/62 [==============================] - 0s 2ms/step - loss: 1.7907 - auc: 0.7348\n",
            "Epoch 8/200\n",
            "62/62 [==============================] - 0s 3ms/step - loss: 1.7335 - auc: 0.7357\n",
            "Epoch 9/200\n",
            "62/62 [==============================] - 0s 2ms/step - loss: 1.6790 - auc: 0.7362\n",
            "Epoch 10/200\n",
            "62/62 [==============================] - 0s 2ms/step - loss: 1.6268 - auc: 0.7365\n",
            "Epoch 11/200\n",
            "62/62 [==============================] - 0s 2ms/step - loss: 1.5768 - auc: 0.7371\n",
            "Epoch 12/200\n",
            "62/62 [==============================] - 0s 2ms/step - loss: 1.5292 - auc: 0.7371\n",
            "Epoch 13/200\n",
            "62/62 [==============================] - 0s 2ms/step - loss: 1.4835 - auc: 0.7371\n",
            "Epoch 14/200\n",
            "62/62 [==============================] - 0s 3ms/step - loss: 1.4396 - auc: 0.7375\n",
            "Epoch 15/200\n",
            "62/62 [==============================] - 0s 3ms/step - loss: 1.3977 - auc: 0.7378\n",
            "Epoch 16/200\n",
            "62/62 [==============================] - 0s 2ms/step - loss: 1.3578 - auc: 0.7376\n",
            "Epoch 17/200\n",
            "62/62 [==============================] - 0s 2ms/step - loss: 1.3197 - auc: 0.7376\n",
            "Epoch 18/200\n",
            "62/62 [==============================] - 0s 2ms/step - loss: 1.2831 - auc: 0.7376\n",
            "Epoch 19/200\n",
            "62/62 [==============================] - 0s 2ms/step - loss: 1.2481 - auc: 0.7377\n",
            "Epoch 20/200\n",
            "62/62 [==============================] - 0s 3ms/step - loss: 1.2149 - auc: 0.7377\n",
            "Epoch 21/200\n",
            "62/62 [==============================] - 0s 3ms/step - loss: 1.1831 - auc: 0.7377\n",
            "Epoch 22/200\n",
            "62/62 [==============================] - 0s 3ms/step - loss: 1.1528 - auc: 0.7377\n",
            "Epoch 23/200\n",
            "62/62 [==============================] - 0s 3ms/step - loss: 1.1240 - auc: 0.7375\n",
            "Epoch 24/200\n",
            "62/62 [==============================] - 0s 2ms/step - loss: 1.0965 - auc: 0.7374\n",
            "Epoch 25/200\n",
            "62/62 [==============================] - 0s 3ms/step - loss: 1.0702 - auc: 0.7374\n",
            "Epoch 26/200\n",
            "62/62 [==============================] - 0s 2ms/step - loss: 1.0452 - auc: 0.7374\n",
            "Epoch 27/200\n",
            "62/62 [==============================] - 0s 3ms/step - loss: 1.0215 - auc: 0.7374\n",
            "Epoch 28/200\n",
            "62/62 [==============================] - 0s 2ms/step - loss: 0.9990 - auc: 0.7374\n",
            "Epoch 29/200\n",
            "62/62 [==============================] - 0s 2ms/step - loss: 0.9776 - auc: 0.7372\n",
            "Epoch 30/200\n",
            "62/62 [==============================] - 0s 2ms/step - loss: 0.9572 - auc: 0.7372\n",
            "Epoch 31/200\n",
            "62/62 [==============================] - 0s 2ms/step - loss: 0.9381 - auc: 0.7371\n",
            "Epoch 32/200\n",
            "62/62 [==============================] - 0s 2ms/step - loss: 0.9196 - auc: 0.7374\n",
            "Epoch 33/200\n",
            "62/62 [==============================] - 0s 3ms/step - loss: 0.9023 - auc: 0.7372\n",
            "Epoch 34/200\n",
            "62/62 [==============================] - 0s 2ms/step - loss: 0.8858 - auc: 0.7371\n",
            "Epoch 35/200\n",
            "62/62 [==============================] - 0s 2ms/step - loss: 0.8705 - auc: 0.7369\n",
            "Epoch 36/200\n",
            "62/62 [==============================] - 0s 3ms/step - loss: 0.8557 - auc: 0.7371\n",
            "Epoch 37/200\n",
            "62/62 [==============================] - 0s 2ms/step - loss: 0.8419 - auc: 0.7368\n",
            "Epoch 38/200\n",
            "62/62 [==============================] - 0s 3ms/step - loss: 0.8289 - auc: 0.7368\n",
            "Epoch 39/200\n",
            "62/62 [==============================] - 0s 2ms/step - loss: 0.8164 - auc: 0.7370\n",
            "Epoch 40/200\n",
            "62/62 [==============================] - 0s 3ms/step - loss: 0.8048 - auc: 0.7367\n",
            "Epoch 41/200\n",
            "62/62 [==============================] - 0s 2ms/step - loss: 0.7937 - auc: 0.7369\n",
            "Epoch 42/200\n",
            "62/62 [==============================] - 0s 2ms/step - loss: 0.7834 - auc: 0.7369\n",
            "Epoch 43/200\n",
            "62/62 [==============================] - 0s 2ms/step - loss: 0.7737 - auc: 0.7368\n",
            "Epoch 44/200\n",
            "62/62 [==============================] - 0s 2ms/step - loss: 0.7646 - auc: 0.7368\n",
            "Epoch 45/200\n",
            "62/62 [==============================] - 0s 2ms/step - loss: 0.7559 - auc: 0.7370\n",
            "Epoch 46/200\n",
            "62/62 [==============================] - 0s 3ms/step - loss: 0.7479 - auc: 0.7368\n",
            "Epoch 47/200\n",
            "62/62 [==============================] - 0s 2ms/step - loss: 0.7403 - auc: 0.7365\n",
            "Epoch 48/200\n",
            "62/62 [==============================] - 0s 2ms/step - loss: 0.7332 - auc: 0.7366\n",
            "Epoch 49/200\n",
            "62/62 [==============================] - 0s 2ms/step - loss: 0.7264 - auc: 0.7368\n",
            "Epoch 50/200\n",
            "62/62 [==============================] - 0s 3ms/step - loss: 0.7203 - auc: 0.7367\n",
            "Epoch 51/200\n",
            "62/62 [==============================] - 0s 3ms/step - loss: 0.7145 - auc: 0.7365\n",
            "Epoch 52/200\n",
            "62/62 [==============================] - 0s 3ms/step - loss: 0.7091 - auc: 0.7365\n",
            "Epoch 53/200\n",
            "62/62 [==============================] - 0s 2ms/step - loss: 0.7039 - auc: 0.7366\n",
            "Epoch 54/200\n",
            "62/62 [==============================] - 0s 2ms/step - loss: 0.6990 - auc: 0.7364\n",
            "Epoch 55/200\n",
            "62/62 [==============================] - 0s 2ms/step - loss: 0.6945 - auc: 0.7365\n",
            "Epoch 56/200\n",
            "62/62 [==============================] - 0s 2ms/step - loss: 0.6903 - auc: 0.7368\n",
            "Epoch 57/200\n",
            "62/62 [==============================] - 0s 2ms/step - loss: 0.6864 - auc: 0.7365\n",
            "Epoch 58/200\n",
            "62/62 [==============================] - 0s 3ms/step - loss: 0.6828 - auc: 0.7364\n",
            "Epoch 59/200\n",
            "62/62 [==============================] - 0s 3ms/step - loss: 0.6794 - auc: 0.7366\n",
            "Epoch 60/200\n",
            "62/62 [==============================] - 0s 4ms/step - loss: 0.6763 - auc: 0.7366\n",
            "Epoch 61/200\n",
            "62/62 [==============================] - 0s 4ms/step - loss: 0.6733 - auc: 0.7365\n",
            "Epoch 62/200\n",
            "62/62 [==============================] - 0s 4ms/step - loss: 0.6707 - auc: 0.7365\n",
            "Epoch 63/200\n",
            "62/62 [==============================] - 0s 4ms/step - loss: 0.6681 - auc: 0.7363\n",
            "Epoch 64/200\n",
            "62/62 [==============================] - 0s 4ms/step - loss: 0.6657 - auc: 0.7365\n",
            "Epoch 65/200\n",
            "62/62 [==============================] - 0s 4ms/step - loss: 0.6634 - auc: 0.7365\n",
            "Epoch 66/200\n",
            "62/62 [==============================] - 0s 4ms/step - loss: 0.6614 - auc: 0.7366\n",
            "Epoch 67/200\n",
            "62/62 [==============================] - 0s 4ms/step - loss: 0.6595 - auc: 0.7364\n",
            "Epoch 68/200\n",
            "62/62 [==============================] - 0s 4ms/step - loss: 0.6578 - auc: 0.7362\n",
            "Epoch 69/200\n",
            "62/62 [==============================] - 0s 4ms/step - loss: 0.6561 - auc: 0.7364\n",
            "Epoch 70/200\n",
            "62/62 [==============================] - 0s 4ms/step - loss: 0.6546 - auc: 0.7363\n",
            "Epoch 71/200\n",
            "62/62 [==============================] - 0s 4ms/step - loss: 0.6532 - auc: 0.7362\n",
            "Epoch 72/200\n",
            "62/62 [==============================] - 0s 4ms/step - loss: 0.6520 - auc: 0.7361\n",
            "Epoch 73/200\n",
            "62/62 [==============================] - 0s 4ms/step - loss: 0.6505 - auc: 0.7365\n",
            "Epoch 74/200\n",
            "62/62 [==============================] - 0s 4ms/step - loss: 0.6494 - auc: 0.7363\n",
            "Epoch 75/200\n",
            "62/62 [==============================] - 0s 4ms/step - loss: 0.6484 - auc: 0.7362\n",
            "Epoch 76/200\n",
            "62/62 [==============================] - 0s 4ms/step - loss: 0.6474 - auc: 0.7361\n",
            "Epoch 77/200\n",
            "62/62 [==============================] - 0s 4ms/step - loss: 0.6465 - auc: 0.7361\n",
            "Epoch 78/200\n",
            "62/62 [==============================] - 0s 4ms/step - loss: 0.6455 - auc: 0.7362\n",
            "Epoch 79/200\n",
            "62/62 [==============================] - 0s 3ms/step - loss: 0.6448 - auc: 0.7361\n",
            "Epoch 80/200\n",
            "62/62 [==============================] - 0s 3ms/step - loss: 0.6440 - auc: 0.7362\n",
            "Epoch 81/200\n",
            "62/62 [==============================] - 0s 3ms/step - loss: 0.6433 - auc: 0.7362\n",
            "Epoch 82/200\n",
            "62/62 [==============================] - 0s 4ms/step - loss: 0.6426 - auc: 0.7361\n",
            "Epoch 83/200\n",
            "62/62 [==============================] - 0s 4ms/step - loss: 0.6420 - auc: 0.7363\n",
            "Epoch 84/200\n",
            "62/62 [==============================] - 0s 4ms/step - loss: 0.6414 - auc: 0.7361\n",
            "Epoch 85/200\n",
            "62/62 [==============================] - 0s 4ms/step - loss: 0.6409 - auc: 0.7360\n",
            "Epoch 86/200\n",
            "62/62 [==============================] - 0s 4ms/step - loss: 0.6402 - auc: 0.7362\n",
            "Epoch 87/200\n",
            "62/62 [==============================] - 0s 4ms/step - loss: 0.6399 - auc: 0.7359\n",
            "Epoch 88/200\n",
            "62/62 [==============================] - 0s 4ms/step - loss: 0.6395 - auc: 0.7360\n",
            "Epoch 89/200\n",
            "62/62 [==============================] - 0s 4ms/step - loss: 0.6389 - auc: 0.7360\n",
            "Epoch 90/200\n",
            "62/62 [==============================] - 0s 4ms/step - loss: 0.6384 - auc: 0.7360\n",
            "Epoch 91/200\n",
            "62/62 [==============================] - 0s 4ms/step - loss: 0.6380 - auc: 0.7362\n",
            "Epoch 92/200\n",
            "62/62 [==============================] - 0s 4ms/step - loss: 0.6377 - auc: 0.7361\n",
            "Epoch 93/200\n",
            "62/62 [==============================] - 0s 4ms/step - loss: 0.6373 - auc: 0.7359\n",
            "Epoch 94/200\n",
            "62/62 [==============================] - 0s 5ms/step - loss: 0.6369 - auc: 0.7360\n",
            "Epoch 95/200\n",
            "62/62 [==============================] - 0s 4ms/step - loss: 0.6366 - auc: 0.7361\n",
            "Epoch 96/200\n",
            "62/62 [==============================] - 0s 3ms/step - loss: 0.6364 - auc: 0.7358\n",
            "Epoch 97/200\n",
            "62/62 [==============================] - 0s 4ms/step - loss: 0.6361 - auc: 0.7358\n",
            "Epoch 98/200\n",
            "62/62 [==============================] - 0s 4ms/step - loss: 0.6357 - auc: 0.7361\n",
            "Epoch 99/200\n",
            "62/62 [==============================] - 0s 4ms/step - loss: 0.6354 - auc: 0.7359\n",
            "Epoch 100/200\n",
            "62/62 [==============================] - 0s 5ms/step - loss: 0.6353 - auc: 0.7360\n",
            "Epoch 101/200\n",
            "62/62 [==============================] - 0s 4ms/step - loss: 0.6350 - auc: 0.7360\n",
            "Epoch 102/200\n",
            "62/62 [==============================] - 0s 4ms/step - loss: 0.6349 - auc: 0.7357\n",
            "Epoch 103/200\n",
            "62/62 [==============================] - 0s 2ms/step - loss: 0.6345 - auc: 0.7358\n",
            "Epoch 104/200\n",
            "62/62 [==============================] - 0s 2ms/step - loss: 0.6342 - auc: 0.7360\n",
            "Epoch 105/200\n",
            "62/62 [==============================] - 0s 2ms/step - loss: 0.6341 - auc: 0.7359\n",
            "Epoch 106/200\n",
            "62/62 [==============================] - 0s 2ms/step - loss: 0.6338 - auc: 0.7361\n",
            "Epoch 107/200\n",
            "62/62 [==============================] - 0s 2ms/step - loss: 0.6336 - auc: 0.7360\n",
            "Epoch 108/200\n",
            "62/62 [==============================] - 0s 3ms/step - loss: 0.6334 - auc: 0.7359\n",
            "Epoch 109/200\n",
            "62/62 [==============================] - 0s 3ms/step - loss: 0.6333 - auc: 0.7358\n",
            "Epoch 110/200\n",
            "62/62 [==============================] - 0s 3ms/step - loss: 0.6332 - auc: 0.7359\n",
            "Epoch 111/200\n",
            "62/62 [==============================] - 0s 2ms/step - loss: 0.6329 - auc: 0.7358\n",
            "Epoch 112/200\n",
            "62/62 [==============================] - 0s 2ms/step - loss: 0.6328 - auc: 0.7358\n",
            "Epoch 113/200\n",
            "62/62 [==============================] - 0s 2ms/step - loss: 0.6328 - auc: 0.7357\n",
            "Epoch 114/200\n",
            "62/62 [==============================] - 0s 3ms/step - loss: 0.6325 - auc: 0.7356\n",
            "Epoch 115/200\n",
            "62/62 [==============================] - 0s 2ms/step - loss: 0.6324 - auc: 0.7359\n",
            "Epoch 116/200\n",
            "62/62 [==============================] - 0s 2ms/step - loss: 0.6323 - auc: 0.7356\n",
            "Epoch 117/200\n",
            "62/62 [==============================] - 0s 2ms/step - loss: 0.6319 - auc: 0.7359\n",
            "Epoch 118/200\n",
            "62/62 [==============================] - 0s 2ms/step - loss: 0.6318 - auc: 0.7357\n",
            "Epoch 119/200\n",
            "62/62 [==============================] - 0s 2ms/step - loss: 0.6317 - auc: 0.7358\n",
            "Epoch 120/200\n",
            "62/62 [==============================] - 0s 3ms/step - loss: 0.6316 - auc: 0.7357\n",
            "Epoch 121/200\n",
            "62/62 [==============================] - 0s 3ms/step - loss: 0.6314 - auc: 0.7359\n",
            "Epoch 122/200\n",
            "62/62 [==============================] - 0s 3ms/step - loss: 0.6313 - auc: 0.7358\n",
            "Epoch 123/200\n",
            "62/62 [==============================] - 0s 3ms/step - loss: 0.6311 - auc: 0.7355\n",
            "Epoch 124/200\n",
            "62/62 [==============================] - 0s 2ms/step - loss: 0.6311 - auc: 0.7358\n",
            "Epoch 125/200\n",
            "62/62 [==============================] - 0s 3ms/step - loss: 0.6308 - auc: 0.7360\n",
            "Epoch 126/200\n",
            "62/62 [==============================] - 0s 3ms/step - loss: 0.6307 - auc: 0.7359\n",
            "Epoch 127/200\n",
            "62/62 [==============================] - 0s 3ms/step - loss: 0.6307 - auc: 0.7357\n",
            "Epoch 128/200\n",
            "62/62 [==============================] - 0s 4ms/step - loss: 0.6306 - auc: 0.7358\n",
            "Epoch 129/200\n",
            "62/62 [==============================] - 0s 4ms/step - loss: 0.6305 - auc: 0.7356\n",
            "Epoch 130/200\n",
            "62/62 [==============================] - 0s 4ms/step - loss: 0.6303 - auc: 0.7357\n",
            "Epoch 131/200\n",
            "62/62 [==============================] - 0s 5ms/step - loss: 0.6303 - auc: 0.7356\n",
            "Epoch 132/200\n",
            "62/62 [==============================] - 0s 4ms/step - loss: 0.6301 - auc: 0.7357\n",
            "Epoch 133/200\n",
            "62/62 [==============================] - 0s 3ms/step - loss: 0.6301 - auc: 0.7355\n",
            "Epoch 134/200\n",
            "62/62 [==============================] - 0s 3ms/step - loss: 0.6299 - auc: 0.7356\n",
            "Epoch 135/200\n",
            "62/62 [==============================] - 0s 4ms/step - loss: 0.6298 - auc: 0.7357\n",
            "Epoch 136/200\n",
            "62/62 [==============================] - 0s 4ms/step - loss: 0.6299 - auc: 0.7356\n",
            "Epoch 137/200\n",
            "62/62 [==============================] - 0s 4ms/step - loss: 0.6295 - auc: 0.7357\n",
            "Epoch 138/200\n",
            "62/62 [==============================] - 0s 4ms/step - loss: 0.6296 - auc: 0.7355\n",
            "Epoch 139/200\n",
            "62/62 [==============================] - 0s 4ms/step - loss: 0.6296 - auc: 0.7355\n",
            "Epoch 140/200\n",
            "62/62 [==============================] - 0s 4ms/step - loss: 0.6293 - auc: 0.7357\n",
            "Epoch 141/200\n",
            "62/62 [==============================] - 0s 4ms/step - loss: 0.6294 - auc: 0.7356\n",
            "Epoch 142/200\n",
            "62/62 [==============================] - 0s 3ms/step - loss: 0.6292 - auc: 0.7357\n",
            "Epoch 143/200\n",
            "62/62 [==============================] - 0s 4ms/step - loss: 0.6294 - auc: 0.7355\n",
            "Epoch 144/200\n",
            "62/62 [==============================] - 0s 4ms/step - loss: 0.6290 - auc: 0.7356\n",
            "Epoch 145/200\n",
            "62/62 [==============================] - 0s 4ms/step - loss: 0.6291 - auc: 0.7357\n",
            "Epoch 146/200\n",
            "62/62 [==============================] - 0s 4ms/step - loss: 0.6289 - auc: 0.7356\n",
            "Epoch 147/200\n",
            "62/62 [==============================] - 0s 4ms/step - loss: 0.6289 - auc: 0.7354\n",
            "Epoch 148/200\n",
            "62/62 [==============================] - 0s 4ms/step - loss: 0.6288 - auc: 0.7355\n",
            "Epoch 149/200\n",
            "62/62 [==============================] - 0s 3ms/step - loss: 0.6287 - auc: 0.7355\n",
            "Epoch 150/200\n",
            "62/62 [==============================] - 0s 3ms/step - loss: 0.6286 - auc: 0.7358\n",
            "Epoch 151/200\n",
            "62/62 [==============================] - 0s 3ms/step - loss: 0.6284 - auc: 0.7357\n",
            "Epoch 152/200\n",
            "62/62 [==============================] - 0s 3ms/step - loss: 0.6284 - auc: 0.7357\n",
            "Epoch 153/200\n",
            "62/62 [==============================] - 0s 3ms/step - loss: 0.6284 - auc: 0.7354\n",
            "Epoch 154/200\n",
            "62/62 [==============================] - 0s 3ms/step - loss: 0.6282 - auc: 0.7355\n",
            "Epoch 155/200\n",
            "62/62 [==============================] - 0s 3ms/step - loss: 0.6281 - auc: 0.7355\n",
            "Epoch 156/200\n",
            "62/62 [==============================] - 0s 3ms/step - loss: 0.6282 - auc: 0.7354\n",
            "Epoch 157/200\n",
            "62/62 [==============================] - 0s 3ms/step - loss: 0.6283 - auc: 0.7353\n",
            "Epoch 158/200\n",
            "62/62 [==============================] - 0s 3ms/step - loss: 0.6280 - auc: 0.7356\n",
            "Epoch 159/200\n",
            "62/62 [==============================] - 0s 3ms/step - loss: 0.6280 - auc: 0.7355\n",
            "Epoch 160/200\n",
            "62/62 [==============================] - 0s 3ms/step - loss: 0.6280 - auc: 0.7354\n",
            "Epoch 161/200\n",
            "62/62 [==============================] - 0s 3ms/step - loss: 0.6279 - auc: 0.7355\n",
            "Epoch 162/200\n",
            "62/62 [==============================] - 0s 3ms/step - loss: 0.6278 - auc: 0.7355\n",
            "Epoch 163/200\n",
            "62/62 [==============================] - 0s 3ms/step - loss: 0.6277 - auc: 0.7355\n",
            "Epoch 164/200\n",
            "62/62 [==============================] - 0s 3ms/step - loss: 0.6276 - auc: 0.7355\n",
            "Epoch 165/200\n",
            "62/62 [==============================] - 0s 3ms/step - loss: 0.6277 - auc: 0.7353\n",
            "Epoch 166/200\n",
            "62/62 [==============================] - 0s 3ms/step - loss: 0.6275 - auc: 0.7355\n",
            "Epoch 167/200\n",
            "62/62 [==============================] - 0s 3ms/step - loss: 0.6274 - auc: 0.7356\n",
            "Epoch 168/200\n",
            "62/62 [==============================] - 0s 3ms/step - loss: 0.6275 - auc: 0.7354\n",
            "Epoch 169/200\n",
            "62/62 [==============================] - 0s 3ms/step - loss: 0.6275 - auc: 0.7355\n",
            "Epoch 170/200\n",
            "62/62 [==============================] - 0s 3ms/step - loss: 0.6274 - auc: 0.7353\n",
            "Epoch 171/200\n",
            "62/62 [==============================] - 0s 3ms/step - loss: 0.6273 - auc: 0.7356\n",
            "Epoch 172/200\n",
            "62/62 [==============================] - 0s 3ms/step - loss: 0.6271 - auc: 0.7355\n",
            "Epoch 173/200\n",
            "62/62 [==============================] - 0s 3ms/step - loss: 0.6272 - auc: 0.7355\n",
            "Epoch 174/200\n",
            "62/62 [==============================] - 0s 3ms/step - loss: 0.6271 - auc: 0.7354\n",
            "Epoch 175/200\n",
            "62/62 [==============================] - 0s 3ms/step - loss: 0.6270 - auc: 0.7353\n",
            "Epoch 176/200\n",
            "62/62 [==============================] - 0s 3ms/step - loss: 0.6269 - auc: 0.7355\n",
            "Epoch 177/200\n",
            "62/62 [==============================] - 0s 3ms/step - loss: 0.6269 - auc: 0.7356\n",
            "Epoch 178/200\n",
            "62/62 [==============================] - 0s 3ms/step - loss: 0.6268 - auc: 0.7354\n",
            "Epoch 179/200\n",
            "62/62 [==============================] - 0s 3ms/step - loss: 0.6268 - auc: 0.7354\n",
            "Epoch 180/200\n",
            "62/62 [==============================] - 0s 3ms/step - loss: 0.6267 - auc: 0.7355\n",
            "Epoch 181/200\n",
            "62/62 [==============================] - 0s 3ms/step - loss: 0.6267 - auc: 0.7353\n",
            "Epoch 182/200\n",
            "62/62 [==============================] - 0s 3ms/step - loss: 0.6266 - auc: 0.7355\n",
            "Epoch 183/200\n",
            "62/62 [==============================] - 0s 3ms/step - loss: 0.6267 - auc: 0.7354\n",
            "Epoch 184/200\n",
            "62/62 [==============================] - 0s 3ms/step - loss: 0.6266 - auc: 0.7354\n",
            "Epoch 185/200\n",
            "62/62 [==============================] - 0s 3ms/step - loss: 0.6265 - auc: 0.7355\n",
            "Epoch 186/200\n",
            "62/62 [==============================] - 0s 3ms/step - loss: 0.6266 - auc: 0.7353\n",
            "Epoch 187/200\n",
            "62/62 [==============================] - 0s 3ms/step - loss: 0.6264 - auc: 0.7354\n",
            "Epoch 188/200\n",
            "62/62 [==============================] - 0s 3ms/step - loss: 0.6265 - auc: 0.7354\n",
            "Epoch 189/200\n",
            "62/62 [==============================] - 0s 3ms/step - loss: 0.6264 - auc: 0.7352\n",
            "Epoch 190/200\n",
            "62/62 [==============================] - 0s 3ms/step - loss: 0.6263 - auc: 0.7355\n",
            "Epoch 191/200\n",
            "62/62 [==============================] - 0s 3ms/step - loss: 0.6264 - auc: 0.7352\n",
            "Epoch 192/200\n",
            "62/62 [==============================] - 0s 3ms/step - loss: 0.6262 - auc: 0.7355\n",
            "Epoch 193/200\n",
            "62/62 [==============================] - 0s 3ms/step - loss: 0.6263 - auc: 0.7352\n",
            "Epoch 194/200\n",
            "62/62 [==============================] - 0s 2ms/step - loss: 0.6262 - auc: 0.7353\n",
            "Epoch 195/200\n",
            "62/62 [==============================] - 0s 3ms/step - loss: 0.6260 - auc: 0.7355\n",
            "Epoch 196/200\n",
            "62/62 [==============================] - 0s 3ms/step - loss: 0.6261 - auc: 0.7352\n",
            "Epoch 197/200\n",
            "62/62 [==============================] - 0s 3ms/step - loss: 0.6260 - auc: 0.7357\n",
            "Epoch 198/200\n",
            "62/62 [==============================] - 0s 2ms/step - loss: 0.6260 - auc: 0.7353\n",
            "Epoch 199/200\n",
            "62/62 [==============================] - 0s 2ms/step - loss: 0.6260 - auc: 0.7354\n",
            "Epoch 200/200\n",
            "62/62 [==============================] - 0s 2ms/step - loss: 0.6258 - auc: 0.7355\n"
          ]
        }
      ]
    },
    {
      "cell_type": "code",
      "source": [
        "# Plot the training loss\n",
        "plt.plot(range(len(train_loss)), train_loss)\n",
        "plt.xlabel('Epochs')\n",
        "plt.ylabel('Loss')\n",
        "plt.title('Training Loss')\n",
        "plt.show()"
      ],
      "metadata": {
        "colab": {
          "base_uri": "https://localhost:8080/",
          "height": 472
        },
        "id": "3MPVBhbU5Qlg",
        "outputId": "1861b09b-fe0b-44b7-a62c-b2e3c3421694"
      },
      "execution_count": null,
      "outputs": [
        {
          "output_type": "display_data",
          "data": {
            "text/plain": [
              "<Figure size 640x480 with 1 Axes>"
            ],
            "image/png": "[encoded data removed]"
          },
          "metadata": {}
        }
      ]
    },
    {
      "cell_type": "code",
      "source": [
        "# Prediction using validation data --> SHOW LOSS FUNCTION IF WE DO DNN\n",
        "test_actual_value = test_y.values\n",
        "model_performance_DNN(x_test, DNN, test_actual_value)"
      ],
      "metadata": {
        "colab": {
          "base_uri": "https://localhost:8080/",
          "height": 668
        },
        "id": "veqxzCwcg9aM",
        "outputId": "f8a31799-0df8-4ea9-b387-9446cbb8d32b"
      },
      "execution_count": null,
      "outputs": [
        {
          "output_type": "stream",
          "name": "stdout",
          "text": [
            "36/36 [==============================] - 0s 1ms/step\n",
            "Accuracy: 0.7026086956521739\n",
            "Sensitivity/Recall: 0.7068965517241379\n",
            "Specificity: 0.701844262295082\n",
            "AUC :  0.7452539099302808\n"
          ]
        },
        {
          "output_type": "display_data",
          "data": {
            "text/plain": [
              "<Figure size 800x600 with 1 Axes>"
            ],
            "image/png": "[encoded data removed]"
          },
          "metadata": {}
        },
        {
          "output_type": "execute_result",
          "data": {
            "text/plain": [
              "(0.7026086956521739, 0.7068965517241379, 0.701844262295082, 0.7452539099302808)"
            ]
          },
          "metadata": {},
          "execution_count": 94
        }
      ]
    },
    {
      "cell_type": "code",
      "source": [
        "DNN.save('/content/drive/MyDrive/TFG/oversampling_random_07449AUC.h5')"
      ],
      "metadata": {
        "id": "G_vvcew7yAIR"
      },
      "execution_count": null,
      "outputs": []
    },
    {
      "cell_type": "code",
      "source": [
        "model = keras.models.load_model('/content/drive/MyDrive/TFG/oversampling_random_07449AUC.h5')"
      ],
      "metadata": {
        "id": "hHNtIP44mPxL"
      },
      "execution_count": null,
      "outputs": []
    }
  ]
}